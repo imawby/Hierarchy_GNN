{
 "cells": [
  {
   "cell_type": "code",
   "execution_count": 1,
   "id": "8767604d",
   "metadata": {},
   "outputs": [],
   "source": [
    "import numpy as np\n",
    "import matplotlib.pyplot as plt\n",
    "import Metrics\n",
    "import Padding\n",
    "import sys\n",
    "import os"
   ]
  },
  {
   "cell_type": "code",
   "execution_count": 2,
   "id": "3cb6b0e2",
   "metadata": {},
   "outputs": [],
   "source": [
    "#############################\n",
    "# Define file\n",
    "#############################\n",
    "\n",
    "inputFile = sys.path[0] + '/files/newHierarchy.npz'"
   ]
  },
  {
   "cell_type": "code",
   "execution_count": 3,
   "id": "3fb328fe",
   "metadata": {},
   "outputs": [
    {
     "name": "stdout",
     "output_type": "stream",
     "text": [
      "Reading file:  /Users/isobel/Desktop/DUNE/2024/Hierarchy_PR/Hierarchy_GNN/files/newHierarchy.npz , This may take a while...\n"
     ]
    }
   ],
   "source": [
    "#############################\n",
    "# Read file\n",
    "#############################\n",
    "\n",
    "print('Reading file: ', str(inputFile),', This may take a while...')\n",
    "\n",
    "data = np.load(inputFile)\n",
    "\n",
    "# Particle level information\n",
    "particleMask_in = data['primary_link_mask']\n",
    "trueVisibleGeneration_in = data['trueVisibleGeneration']\n",
    "trueVisibleParentID_in = data['trueVisibleParentID']\n",
    "trackShowerScore_in = data['trackShowerScore']\n",
    "newGenPass1_in = data['new_gen_pass1']\n",
    "newParentIDPass1_in = data['new_parentID_pass1']\n",
    "newGenPass2_in = data['new_gen_pass2']\n",
    "newParentIDPass2_in = data['new_parentID_pass2']\n",
    "newGenPass3_in = data['new_gen_pass3']\n",
    "newParentIDPass3_in = data['new_parentID_pass3']\n",
    "newGenPass4_in = data['new_gen_pass4']\n",
    "newParentIDPass4_in = data['new_parentID_pass4']\n",
    "newGenPass5_in = data['new_gen_pass5']\n",
    "newParentIDPass5_in = data['new_parentID_pass5']\n",
    "newGenPass6_in = data['new_gen_pass6']\n",
    "newParentIDPass6_in = data['new_parentID_pass6']\n",
    "\n",
    "nEntries = len(particleMask_in)"
   ]
  },
  {
   "cell_type": "code",
   "execution_count": null,
   "id": "ad99cc05",
   "metadata": {},
   "outputs": [],
   "source": []
  },
  {
   "cell_type": "code",
   "execution_count": 4,
   "id": "44fa8a52",
   "metadata": {},
   "outputs": [],
   "source": [
    "########################################\n",
    "# Target mask\n",
    "########################################\n",
    "\n",
    "# ignore_mask = np.logical_or(nSpacepoints_in == 0, trueVisibleGeneration_in == -999)\n",
    "# target_mask = np.logical_and(np.logical_not(ignore_mask), particleMask_in)\n",
    "# primary_target_mask = np.logical_and(target_mask, trueVisibleGeneration_in == 2)\n",
    "# secondary_target_mask = np.logical_and(target_mask, trueVisibleGeneration_in == 3)"
   ]
  },
  {
   "cell_type": "code",
   "execution_count": null,
   "id": "84a291fa",
   "metadata": {},
   "outputs": [],
   "source": []
  },
  {
   "cell_type": "code",
   "execution_count": 5,
   "id": "642cfdde",
   "metadata": {},
   "outputs": [
    {
     "name": "stdout",
     "output_type": "stream",
     "text": [
      "------------------------------------------------------------\n",
      "TRACK\n",
      "------------------------------------------------------------\n",
      "NEW - True Gen   | Primary | Secondary | Tertiary | Higher |\n",
      "------------------------------------------------------------\n",
      "Correct parent CT |0.75     |0.0        |0.0       |0.0     |\n",
      "Correct parent WT |0.0      |0.0        |0.0       |0.0     |\n",
      "False primary     |0.0      |0.07       |0.02      |0.0     |\n",
      "Incorrect parent  |0.0      |0.0        |0.0       |0.0     |\n",
      "Not tagged        |0.25     |0.93       |0.98      |1.0     |\n",
      "------------------------------------------------------------\n",
      "Total             |26463    |7136       |1007      |133     |\n",
      "n_two_d (not included in metrics): 0\n",
      "------------------------------------------------------------\n",
      "\n",
      "------------------------------------------------------------\n",
      "SHOWER\n",
      "------------------------------------------------------------\n",
      "NEW - True Gen   | Primary | Secondary | Tertiary | Higher |\n",
      "------------------------------------------------------------\n",
      "Correct parent CT |0.65     |0.0        |0.0       |0.0     |\n",
      "Correct parent WT |0.0      |0.0        |0.0       |0.0     |\n",
      "False primary     |0.0      |0.15       |0.09      |0.06    |\n",
      "Incorrect parent  |0.0      |0.0        |0.0       |0.0     |\n",
      "Not tagged        |0.35     |0.85       |0.91      |0.94    |\n",
      "------------------------------------------------------------\n",
      "Total             |9726     |5230       |1014      |192     |\n",
      "n_two_d (not included in metrics): 0\n",
      "------------------------------------------------------------\n",
      "\n"
     ]
    }
   ],
   "source": [
    "########################################\n",
    "# Metrics after primary tier building\n",
    "########################################\n",
    "\n",
    "Metrics.calculateMetrics_new(nEntries, particleMask_in, trackShowerScore_in, trueVisibleGeneration_in, trueVisibleParentID_in, newParentIDPass1_in, newGenPass1_in)\n",
    "#Metrics.calculateMetrics_leading_lepton(nEntries, particleMask_in, nSpacepoints_in, pfpTruePDG_in, trueVisibleGeneration_in, isNC_in, nuPDG_in, newGenPass1_in)\n"
   ]
  },
  {
   "cell_type": "code",
   "execution_count": 6,
   "id": "b57f35ec",
   "metadata": {},
   "outputs": [
    {
     "name": "stdout",
     "output_type": "stream",
     "text": [
      "------------------------------------------------------------\n",
      "TRACK\n",
      "------------------------------------------------------------\n",
      "NEW - True Gen   | Primary | Secondary | Tertiary | Higher |\n",
      "------------------------------------------------------------\n",
      "Correct parent CT |0.75     |0.53       |0.29      |0.0     |\n",
      "Correct parent WT |0.0      |0.01       |0.08      |0.3     |\n",
      "False primary     |0.0      |0.07       |0.02      |0.0     |\n",
      "Incorrect parent  |0.02     |0.03       |0.1       |0.11    |\n",
      "Not tagged        |0.24     |0.36       |0.52      |0.59    |\n",
      "------------------------------------------------------------\n",
      "Total             |26463    |7136       |1007      |133     |\n",
      "n_two_d (not included in metrics): 0\n",
      "------------------------------------------------------------\n",
      "\n",
      "------------------------------------------------------------\n",
      "SHOWER\n",
      "------------------------------------------------------------\n",
      "NEW - True Gen   | Primary | Secondary | Tertiary | Higher |\n",
      "------------------------------------------------------------\n",
      "Correct parent CT |0.65     |0.44       |0.18      |0.0     |\n",
      "Correct parent WT |0.0      |0.0        |0.05      |0.13    |\n",
      "False primary     |0.0      |0.15       |0.09      |0.06    |\n",
      "Incorrect parent  |0.05     |0.04       |0.12      |0.12    |\n",
      "Not tagged        |0.3      |0.37       |0.56      |0.69    |\n",
      "------------------------------------------------------------\n",
      "Total             |9726     |5230       |1014      |192     |\n",
      "n_two_d (not included in metrics): 0\n",
      "------------------------------------------------------------\n",
      "\n"
     ]
    }
   ],
   "source": [
    "########################################\n",
    "# Metrics after later tier building\n",
    "########################################\n",
    "\n",
    "Metrics.calculateMetrics_new(nEntries, particleMask_in, trackShowerScore_in, trueVisibleGeneration_in, trueVisibleParentID_in, newParentIDPass2_in, newGenPass2_in)"
   ]
  },
  {
   "cell_type": "code",
   "execution_count": 7,
   "id": "cb62a144",
   "metadata": {},
   "outputs": [
    {
     "name": "stdout",
     "output_type": "stream",
     "text": [
      "------------------------------------------------------------\n",
      "TRACK\n",
      "------------------------------------------------------------\n",
      "NEW - True Gen   | Primary | Secondary | Tertiary | Higher |\n",
      "------------------------------------------------------------\n",
      "Correct parent CT |0.97     |0.53       |0.29      |0.0     |\n",
      "Correct parent WT |0.0      |0.01       |0.08      |0.3     |\n",
      "False primary     |0.0      |0.3        |0.26      |0.26    |\n",
      "Incorrect parent  |0.02     |0.03       |0.1       |0.11    |\n",
      "Not tagged        |0.01     |0.13       |0.28      |0.33    |\n",
      "------------------------------------------------------------\n",
      "Total             |26463    |7136       |1007      |133     |\n",
      "n_two_d (not included in metrics): 0\n",
      "------------------------------------------------------------\n",
      "\n",
      "------------------------------------------------------------\n",
      "SHOWER\n",
      "------------------------------------------------------------\n",
      "NEW - True Gen   | Primary | Secondary | Tertiary | Higher |\n",
      "------------------------------------------------------------\n",
      "Correct parent CT |0.95     |0.44       |0.18      |0.0     |\n",
      "Correct parent WT |0.0      |0.0        |0.05      |0.13    |\n",
      "False primary     |0.0      |0.51       |0.65      |0.75    |\n",
      "Incorrect parent  |0.05     |0.04       |0.12      |0.12    |\n",
      "Not tagged        |0.0      |0.0        |0.0       |0.0     |\n",
      "------------------------------------------------------------\n",
      "Total             |9726     |5230       |1014      |192     |\n",
      "n_two_d (not included in metrics): 0\n",
      "------------------------------------------------------------\n",
      "\n"
     ]
    }
   ],
   "source": [
    "########################################\n",
    "# Metrics after primary building - pass 2\n",
    "########################################\n",
    "\n",
    "Metrics.calculateMetrics_new(nEntries, particleMask_in, trackShowerScore_in, trueVisibleGeneration_in, trueVisibleParentID_in, newParentIDPass3_in, newGenPass3_in)"
   ]
  },
  {
   "cell_type": "code",
   "execution_count": 8,
   "id": "aec63f70",
   "metadata": {},
   "outputs": [
    {
     "name": "stdout",
     "output_type": "stream",
     "text": [
      "------------------------------------------------------------\n",
      "TRACK\n",
      "------------------------------------------------------------\n",
      "NEW - True Gen   | Primary | Secondary | Tertiary | Higher |\n",
      "------------------------------------------------------------\n",
      "Correct parent CT |0.97     |0.62       |0.37      |0.0     |\n",
      "Correct parent WT |0.0      |0.02       |0.17      |0.46    |\n",
      "False primary     |0.0      |0.3        |0.26      |0.26    |\n",
      "Incorrect parent  |0.03     |0.04       |0.13      |0.16    |\n",
      "Not tagged        |0.0      |0.02       |0.07      |0.13    |\n",
      "------------------------------------------------------------\n",
      "Total             |26463    |7136       |1007      |133     |\n",
      "n_two_d (not included in metrics): 0\n",
      "------------------------------------------------------------\n",
      "\n",
      "------------------------------------------------------------\n",
      "SHOWER\n",
      "------------------------------------------------------------\n",
      "NEW - True Gen   | Primary | Secondary | Tertiary | Higher |\n",
      "------------------------------------------------------------\n",
      "Correct parent CT |0.95     |0.44       |0.18      |0.0     |\n",
      "Correct parent WT |0.0      |0.0        |0.05      |0.13    |\n",
      "False primary     |0.0      |0.51       |0.65      |0.75    |\n",
      "Incorrect parent  |0.05     |0.04       |0.12      |0.12    |\n",
      "Not tagged        |0.0      |0.0        |0.0       |0.0     |\n",
      "------------------------------------------------------------\n",
      "Total             |9726     |5230       |1014      |192     |\n",
      "n_two_d (not included in metrics): 0\n",
      "------------------------------------------------------------\n",
      "\n"
     ]
    }
   ],
   "source": [
    "########################################\n",
    "# Metrics after later tier building - pass 2\n",
    "########################################\n",
    "Metrics.calculateMetrics_new(nEntries, particleMask_in, trackShowerScore_in, trueVisibleGeneration_in, trueVisibleParentID_in, newParentIDPass4_in, newGenPass4_in)\n"
   ]
  },
  {
   "cell_type": "code",
   "execution_count": 9,
   "id": "ac397d21",
   "metadata": {},
   "outputs": [
    {
     "name": "stdout",
     "output_type": "stream",
     "text": [
      "------------------------------------------------------------\n",
      "TRACK\n",
      "------------------------------------------------------------\n",
      "NEW - True Gen   | Primary | Secondary | Tertiary | Higher |\n",
      "------------------------------------------------------------\n",
      "Correct parent CT |0.97     |0.62       |0.37      |0.0     |\n",
      "Correct parent WT |0.0      |0.02       |0.17      |0.46    |\n",
      "False primary     |0.0      |0.32       |0.32      |0.38    |\n",
      "Incorrect parent  |0.03     |0.04       |0.13      |0.16    |\n",
      "Not tagged        |0.0      |0.0        |0.0       |0.0     |\n",
      "------------------------------------------------------------\n",
      "Total             |26463    |7136       |1007      |133     |\n",
      "n_two_d (not included in metrics): 0\n",
      "------------------------------------------------------------\n",
      "\n",
      "------------------------------------------------------------\n",
      "SHOWER\n",
      "------------------------------------------------------------\n",
      "NEW - True Gen   | Primary | Secondary | Tertiary | Higher |\n",
      "------------------------------------------------------------\n",
      "Correct parent CT |0.95     |0.44       |0.18      |0.0     |\n",
      "Correct parent WT |0.0      |0.0        |0.05      |0.13    |\n",
      "False primary     |0.0      |0.51       |0.65      |0.75    |\n",
      "Incorrect parent  |0.05     |0.04       |0.12      |0.12    |\n",
      "Not tagged        |0.0      |0.0        |0.0       |0.0     |\n",
      "------------------------------------------------------------\n",
      "Total             |9726     |5230       |1014      |192     |\n",
      "n_two_d (not included in metrics): 0\n",
      "------------------------------------------------------------\n",
      "\n"
     ]
    }
   ],
   "source": [
    "########################################\n",
    "# Final metrics\n",
    "########################################\n",
    "Metrics.calculateMetrics_new(nEntries, particleMask_in, trackShowerScore_in, trueVisibleGeneration_in, trueVisibleParentID_in, newParentIDPass5_in, newGenPass5_in)\n",
    "\n",
    "#Metrics.calculateMetrics_leading_lepton(nEntries, particleMask_in, nSpacepoints_in, pfpTruePDG_in, trueVisibleGeneration_in, isNC_in, nuPDG_in, newGenPass5_in)"
   ]
  },
  {
   "cell_type": "code",
   "execution_count": 10,
   "id": "516acd89",
   "metadata": {},
   "outputs": [
    {
     "name": "stdout",
     "output_type": "stream",
     "text": [
      "------------------------------------------------------------\n",
      "TRACK\n",
      "------------------------------------------------------------\n",
      "NEW - True Gen   | Primary | Secondary | Tertiary | Higher |\n",
      "------------------------------------------------------------\n",
      "Correct parent CT |0.97     |0.62       |0.38      |0.0     |\n",
      "Correct parent WT |0.0      |0.02       |0.17      |0.46    |\n",
      "False primary     |0.0      |0.32       |0.32      |0.38    |\n",
      "Incorrect parent  |0.03     |0.05       |0.13      |0.16    |\n",
      "Not tagged        |0.0      |0.0        |0.0       |0.0     |\n",
      "------------------------------------------------------------\n",
      "Total             |26463    |7136       |1007      |133     |\n",
      "n_two_d (not included in metrics): 0\n",
      "------------------------------------------------------------\n",
      "\n",
      "------------------------------------------------------------\n",
      "SHOWER\n",
      "------------------------------------------------------------\n",
      "NEW - True Gen   | Primary | Secondary | Tertiary | Higher |\n",
      "------------------------------------------------------------\n",
      "Correct parent CT |0.95     |0.44       |0.18      |0.0     |\n",
      "Correct parent WT |0.0      |0.0        |0.05      |0.13    |\n",
      "False primary     |0.0      |0.51       |0.65      |0.75    |\n",
      "Incorrect parent  |0.05     |0.04       |0.12      |0.12    |\n",
      "Not tagged        |0.0      |0.0        |0.0       |0.0     |\n",
      "------------------------------------------------------------\n",
      "Total             |9726     |5230       |1014      |192     |\n",
      "n_two_d (not included in metrics): 0\n",
      "------------------------------------------------------------\n",
      "\n"
     ]
    }
   ],
   "source": [
    "########################################\n",
    "# Final metrics\n",
    "########################################\n",
    "Metrics.calculateMetrics_new(nEntries, particleMask_in, trackShowerScore_in, trueVisibleGeneration_in, trueVisibleParentID_in, newParentIDPass6_in, newGenPass6_in)\n",
    "\n",
    "#Metrics.calculateMetrics_leading_lepton(nEntries, particleMask_in, nSpacepoints_in, pfpTruePDG_in, trueVisibleGeneration_in, isNC_in, nuPDG_in, newGenPass6_in)"
   ]
  },
  {
   "cell_type": "code",
   "execution_count": null,
   "id": "0cce08d6",
   "metadata": {},
   "outputs": [],
   "source": []
  },
  {
   "cell_type": "code",
   "execution_count": null,
   "id": "77aa1008",
   "metadata": {},
   "outputs": [],
   "source": []
  },
  {
   "cell_type": "code",
   "execution_count": null,
   "id": "d1661e99",
   "metadata": {},
   "outputs": [],
   "source": []
  },
  {
   "cell_type": "code",
   "execution_count": null,
   "id": "2aa45e36",
   "metadata": {},
   "outputs": [],
   "source": []
  },
  {
   "cell_type": "code",
   "execution_count": null,
   "id": "c3536a7c",
   "metadata": {},
   "outputs": [],
   "source": []
  }
 ],
 "metadata": {
  "kernelspec": {
   "display_name": "Python 3 (ipykernel)",
   "language": "python",
   "name": "python3"
  },
  "language_info": {
   "codemirror_mode": {
    "name": "ipython",
    "version": 3
   },
   "file_extension": ".py",
   "mimetype": "text/x-python",
   "name": "python",
   "nbconvert_exporter": "python",
   "pygments_lexer": "ipython3",
   "version": "3.11.4"
  }
 },
 "nbformat": 4,
 "nbformat_minor": 5
}
