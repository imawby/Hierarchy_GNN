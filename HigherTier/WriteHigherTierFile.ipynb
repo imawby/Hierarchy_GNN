{
 "cells": [
  {
   "cell_type": "code",
   "execution_count": 1,
   "id": "d3410253",
   "metadata": {},
   "outputs": [],
   "source": [
    "import numpy as np\n",
    "import math\n",
    "import glob\n",
    "import sys\n",
    "import sklearn \n",
    "\n",
    "import HigherTierFileHelper"
   ]
  },
  {
   "cell_type": "code",
   "execution_count": 2,
   "id": "a5413a21",
   "metadata": {},
   "outputs": [
    {
     "name": "stdout",
     "output_type": "stream",
     "text": [
      "['/Users/isobel/Desktop/DUNE/2024/Hierarchy/HigherTier/files/ccnutree_1.root']\n"
     ]
    }
   ],
   "source": [
    "###########################################################\n",
    "# Define file\n",
    "###########################################################\n",
    "\n",
    "file = 'ccnutree_1'\n",
    "\n",
    "fileNames = glob.glob('/Users/isobel/Desktop/DUNE/2024/Hierarchy/HigherTier/files/' + file + '.root')\n",
    "trainVarFile = '/Users/isobel/Desktop/DUNE/2024/Hierarchy/HigherTier/files/' + file + '.npz'\n",
    "\n",
    "print(fileNames)"
   ]
  },
  {
   "cell_type": "code",
   "execution_count": 3,
   "id": "9e8e88fb",
   "metadata": {},
   "outputs": [
    {
     "name": "stdout",
     "output_type": "stream",
     "text": [
      "Reading tree:  /Users/isobel/Desktop/DUNE/2024/Hierarchy/HigherTier/files/ccnutree_1.root , This may take a while...\n",
      "We have  807596  links overall!\n"
     ]
    }
   ],
   "source": [
    "###########################################################\n",
    "# Read tree\n",
    "###########################################################\n",
    "nLinks, variables, y = HigherTierFileHelper.readTree(fileNames)"
   ]
  },
  {
   "cell_type": "code",
   "execution_count": 4,
   "id": "a08503a8",
   "metadata": {},
   "outputs": [],
   "source": [
    "###########################################################\n",
    "# This should shuffle things so that the indicies are still linked\n",
    "###########################################################\n",
    "variables, y = sklearn.utils.shuffle(variables, y)"
   ]
  },
  {
   "cell_type": "code",
   "execution_count": 5,
   "id": "72031f86",
   "metadata": {},
   "outputs": [
    {
     "name": "stdout",
     "output_type": "stream",
     "text": [
      "ntest:  80759\n",
      "ntrain:  726836\n"
     ]
    }
   ],
   "source": [
    "###########################################################\n",
    "# Write file\n",
    "###########################################################\n",
    "\n",
    "ntest = math.floor(nLinks * 0.1)\n",
    "ntrain = math.floor(nLinks * 0.9)\n",
    "\n",
    "print('ntest: ', ntest)\n",
    "print('ntrain: ', ntrain)\n",
    "    \n",
    "variables_train = variables[:ntrain]\n",
    "variables_test = variables[ntrain:(ntrain + ntest)]\n",
    "\n",
    "y_train = y[:ntrain]\n",
    "y_test = y[ntrain:(ntrain + ntest)]\n",
    "    \n",
    "np.savez(trainVarFile, variables_train=variables_train, y_train=y_train, variables_test=variables_test, y_test=y_test)"
   ]
  },
  {
   "cell_type": "code",
   "execution_count": 6,
   "id": "c39c305d",
   "metadata": {},
   "outputs": [
    {
     "name": "stdout",
     "output_type": "stream",
     "text": [
      "variables_train:  (726836, 12)\n",
      "variables_test:  (80759, 12)\n",
      "y_train:  (726836, 1)\n",
      "y_test:  (80759, 1)\n"
     ]
    }
   ],
   "source": [
    "print('variables_train: ', variables_train.shape)    \n",
    "print('variables_test: ', variables_test.shape)  \n",
    "\n",
    "print('y_train: ', y_train.shape)    \n",
    "print('y_test: ', y_test.shape)  "
   ]
  },
  {
   "cell_type": "code",
   "execution_count": null,
   "id": "3de1c221",
   "metadata": {},
   "outputs": [],
   "source": []
  }
 ],
 "metadata": {
  "kernelspec": {
   "display_name": "Python 3 (ipykernel)",
   "language": "python",
   "name": "python3"
  },
  "language_info": {
   "codemirror_mode": {
    "name": "ipython",
    "version": 3
   },
   "file_extension": ".py",
   "mimetype": "text/x-python",
   "name": "python",
   "nbconvert_exporter": "python",
   "pygments_lexer": "ipython3",
   "version": "3.11.4"
  }
 },
 "nbformat": 4,
 "nbformat_minor": 5
}
