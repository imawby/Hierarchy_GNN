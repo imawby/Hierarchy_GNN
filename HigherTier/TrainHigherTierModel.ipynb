{
 "cells": [
  {
   "cell_type": "code",
   "execution_count": 1,
   "id": "fe1752bb",
   "metadata": {},
   "outputs": [],
   "source": [
    "import uproot\n",
    "import matplotlib.pyplot as plt\n",
    "import numpy as np\n",
    "import math\n",
    "import glob\n",
    "\n",
    "from tensorflow import keras\n",
    "from tensorflow.keras import layers\n",
    "from tensorflow.keras.utils import to_categorical\n",
    "from tensorflow.keras import optimizers\n",
    "from tensorflow.keras.callbacks import ReduceLROnPlateau\n",
    "\n",
    "import sklearn \n",
    "from sklearn.metrics import confusion_matrix\n",
    "from sklearn.metrics import ConfusionMatrixDisplay\n",
    "from sklearn.metrics import roc_curve\n",
    "from sklearn.metrics import auc\n",
    "from sklearn.utils import class_weight\n",
    "\n",
    "\n",
    "import HigherTierModel"
   ]
  },
  {
   "cell_type": "code",
   "execution_count": null,
   "id": "51b7542f",
   "metadata": {},
   "outputs": [],
   "source": []
  },
  {
   "cell_type": "code",
   "execution_count": 2,
   "id": "2748b43b",
   "metadata": {},
   "outputs": [],
   "source": [
    "###########################################################\n",
    "# Define file\n",
    "###########################################################\n",
    "\n",
    "trainVarFile = '/Users/isobel/Desktop/DUNE/2024/Hierarchy/HigherTier/files/higherTier_Y.npz'"
   ]
  },
  {
   "cell_type": "code",
   "execution_count": 3,
   "id": "33bac12d",
   "metadata": {},
   "outputs": [],
   "source": [
    "###########################################################\n",
    "# Hyperparameters\n",
    "###########################################################\n",
    "\n",
    "nVariables = 12\n",
    "         \n",
    "ntrain = 221\n",
    "ntest  = 24\n",
    "\n",
    "nEpochs = 10\n",
    "batchSize = 64\n",
    "learningRate = 1e-4"
   ]
  },
  {
   "cell_type": "code",
   "execution_count": 4,
   "id": "91a6f763",
   "metadata": {},
   "outputs": [
    {
     "name": "stdout",
     "output_type": "stream",
     "text": [
      "variables_train.shape: (221, 12)\n",
      "variables_test.shape: (24, 12)\n",
      "y_train.shape: (221, 1)\n",
      "y_test.shape: (24, 1)\n"
     ]
    }
   ],
   "source": [
    "###########################################################\n",
    "# Get data from file\n",
    "###########################################################\n",
    "\n",
    "data = np.load(trainVarFile)\n",
    "    \n",
    "variables_train = data['variables_train']\n",
    "variables_test = data['variables_test']\n",
    "    \n",
    "y_train = data['y_train']\n",
    "y_test = data['y_test']\n",
    "\n",
    "print('variables_train.shape:', variables_train.shape)\n",
    "print('variables_test.shape:', variables_test.shape)\n",
    "print('y_train.shape:', y_train.shape)\n",
    "print('y_test.shape:', y_test.shape)"
   ]
  },
  {
   "cell_type": "code",
   "execution_count": 5,
   "id": "412e8b42",
   "metadata": {},
   "outputs": [],
   "source": [
    "###########################################################\n",
    "# Define model\n",
    "###########################################################\n",
    "\n",
    "model = HigherTierModel.HigherTierModel(nVariables)"
   ]
  },
  {
   "cell_type": "code",
   "execution_count": 6,
   "id": "df8c69b9",
   "metadata": {},
   "outputs": [],
   "source": [
    "###########################################################\n",
    "# Define the optimiser and compile the model\n",
    "###########################################################\n",
    "\n",
    "optimiser = optimizers.legacy.Adam(learning_rate=learningRate)\n",
    "model.compile(loss='binary_crossentropy', optimizer=optimiser, metrics=['accuracy'])"
   ]
  },
  {
   "cell_type": "code",
   "execution_count": 7,
   "id": "b715a449",
   "metadata": {},
   "outputs": [
    {
     "name": "stdout",
     "output_type": "stream",
     "text": [
      "Epoch 1/10\n",
      "4/4 [==============================] - 0s 40ms/step - loss: 0.2726 - accuracy: 0.9864 - val_loss: 8.9646e-05 - val_accuracy: 1.0000\n",
      "Epoch 2/10\n",
      "4/4 [==============================] - 0s 3ms/step - loss: 0.2335 - accuracy: 0.9864 - val_loss: 1.7942e-04 - val_accuracy: 1.0000\n",
      "Epoch 3/10\n",
      "4/4 [==============================] - 0s 3ms/step - loss: 0.2043 - accuracy: 0.9864 - val_loss: 3.7316e-04 - val_accuracy: 1.0000\n",
      "Epoch 4/10\n",
      "4/4 [==============================] - 0s 3ms/step - loss: 0.1584 - accuracy: 0.9864 - val_loss: 7.9117e-04 - val_accuracy: 1.0000\n",
      "Epoch 5/10\n",
      "4/4 [==============================] - 0s 3ms/step - loss: 0.1275 - accuracy: 0.9864 - val_loss: 0.0021 - val_accuracy: 1.0000\n",
      "Epoch 6/10\n",
      "4/4 [==============================] - 0s 3ms/step - loss: 0.1176 - accuracy: 0.9819 - val_loss: 0.0056 - val_accuracy: 1.0000\n",
      "Epoch 7/10\n",
      "4/4 [==============================] - 0s 3ms/step - loss: 0.0925 - accuracy: 0.9819 - val_loss: 0.0050 - val_accuracy: 1.0000\n",
      "Epoch 8/10\n",
      "4/4 [==============================] - 0s 3ms/step - loss: 0.0793 - accuracy: 0.9864 - val_loss: 0.0057 - val_accuracy: 1.0000\n",
      "Epoch 9/10\n",
      "4/4 [==============================] - 0s 3ms/step - loss: 0.0669 - accuracy: 0.9864 - val_loss: 0.0067 - val_accuracy: 1.0000\n",
      "Epoch 10/10\n",
      "4/4 [==============================] - 0s 3ms/step - loss: 0.0596 - accuracy: 0.9864 - val_loss: 0.0101 - val_accuracy: 1.0000\n"
     ]
    }
   ],
   "source": [
    "###########################################################\n",
    "# Fit the model\n",
    "###########################################################\n",
    "\n",
    "#reduce_lr = ReduceLROnPlateau(monitor='val_loss', factor=0.1, patience=2, min_lr=1e-6, verbose=1)\n",
    "\n",
    "history = model.fit(variables_train, y_train, validation_data=(variables_test, y_test), batch_size=batchSize, shuffle=True, epochs=nEpochs) "
   ]
  },
  {
   "cell_type": "code",
   "execution_count": null,
   "id": "221b8b0e",
   "metadata": {},
   "outputs": [],
   "source": []
  }
 ],
 "metadata": {
  "kernelspec": {
   "display_name": "Python 3 (ipykernel)",
   "language": "python",
   "name": "python3"
  },
  "language_info": {
   "codemirror_mode": {
    "name": "ipython",
    "version": 3
   },
   "file_extension": ".py",
   "mimetype": "text/x-python",
   "name": "python",
   "nbconvert_exporter": "python",
   "pygments_lexer": "ipython3",
   "version": "3.11.4"
  }
 },
 "nbformat": 4,
 "nbformat_minor": 5
}
