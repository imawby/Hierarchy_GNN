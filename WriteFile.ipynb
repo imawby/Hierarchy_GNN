{
 "cells": [
  {
   "cell_type": "code",
   "execution_count": 1,
   "id": "9f59c607",
   "metadata": {},
   "outputs": [],
   "source": [
    "import uproot\n",
    "import numpy as np\n",
    "\n",
    "import GraphBuilder"
   ]
  },
  {
   "cell_type": "code",
   "execution_count": 2,
   "id": "8aa0205b",
   "metadata": {},
   "outputs": [],
   "source": [
    "#############################\n",
    "# Let's read the file\n",
    "#############################\n",
    "\n",
    "fileName = '/Users/isobel/Desktop/DUNE/2024/Hierarchy/files/nue_dune10kt_1x2x6_1124_526_20230828T185125Z_gen_g4_detsim_hitreco_ccnutree'#'/Users/isobel/Desktop/DUNE/2024/Hierarchy/files/ccnutree_higherStats'\n",
    "#fileName = '/Users/isobel/Desktop/DUNE/2024/Hierarchy/files/ccnutree_higherStats'\n",
    "inputFileName = fileName + '.root'\n",
    "outputFileName = fileName + '.npz'\n",
    "\n",
    "treeFile = uproot.open(inputFileName)\n",
    "tree = treeFile['ccnuselection/ccnusel']\n",
    "branches = tree.arrays()"
   ]
  },
  {
   "cell_type": "code",
   "execution_count": 3,
   "id": "49151eb5",
   "metadata": {},
   "outputs": [
    {
     "name": "stdout",
     "output_type": "stream",
     "text": [
      "We are working with: 10 entries\n"
     ]
    }
   ],
   "source": [
    "#############################\n",
    "# Get event-level stuff\n",
    "#############################\n",
    "run = np.array(branches['Run'])\n",
    "subrun = np.array(branches['SubRun'])\n",
    "event = np.array(branches['Event'])\n",
    "\n",
    "recoNuVertexX = branches['RecoNuVtxX']\n",
    "recoNuVertexY = branches['RecoNuVtxY']\n",
    "recoNuVertexZ = branches['RecoNuVtxZ']\n",
    "    \n",
    "#############################\n",
    "# Get pfp-level stuff - these cannot be numpy arrays...\n",
    "#############################\n",
    "trackShowerScore_main = branches['RecoPFPTrackShowerScore']\n",
    "nHits_main = branches['RecoPFPRecoNHits']\n",
    "charge_main = branches['RecoPFPRecoCharge']\n",
    "vertexX_main = branches['RecoPFPRecoVertexX']\n",
    "vertexY_main = branches['RecoPFPRecoVertexY']\n",
    "vertexZ_main = branches['RecoPFPRecoVertexZ']\n",
    "trackEndX_main = branches['RecoTrackRecoEndX']\n",
    "trackEndY_main = branches['RecoTrackRecoEndY']\n",
    "trackEndZ_main = branches['RecoTrackRecoEndZ']\n",
    "showerDirX_main = branches['RecoShowerRecoDirX']  # not the best direction estimate, placeholder\n",
    "showerDirY_main = branches['RecoShowerRecoDirY']\n",
    "showerDirZ_main = branches['RecoShowerRecoDirZ']\n",
    "ivysaurusMuon_main = branches['RecoPFPIvysaurusMuon']\n",
    "ivysaurusProton_main = branches['RecoPFPIvysaurusProton']\n",
    "ivysaurusPion_main = branches['RecoPFPIvysaurusPion']\n",
    "ivysaurusElectron_main = branches['RecoPFPIvysaurusElectron']\n",
    "ivysaurusPhoton_main = branches['RecoPFPIvysaurusPhoton']\n",
    "wiggliness_main = branches['RecoTrackDeflecAngleSD']\n",
    "trackLength_main = branches['RecoTrackLength']\n",
    "displacement_main = branches['RecoShowerPandrizzleDisplacement']\n",
    "dca_main = branches['RecoShowerPandrizzleDCA']\n",
    "recoGeneration_main = branches['RecoPFPRecoGeneration']\n",
    "recoSelf_main = branches['RecoPFPSelf']\n",
    "pathwayLength_main = branches['RecoShowerPandrizzlePathwayLengthMin']\n",
    "pathwayScatteringAngle2D_main = branches['RecoShowerPandrizzleMaxShowerStartPathwayScatteringAngle2D']\n",
    "nShowerStartHits_main = branches['RecoShowerPandrizzleMaxNPostShowerStartHits']\n",
    "showerScatterAngle_main = branches['RecoShowerPandrizzleMaxPostShowerStartScatterAngle']\n",
    "nuVertexEnergyAsymmetry_main = branches['RecoShowerPandrizzleMaxPostShowerStartNuVertexEnergyAsymmetry']\n",
    "showerStartEnergyAsymmetry_main = branches['RecoShowerPandrizzleMaxPostShowerStartShowerStartEnergyAsymmetry']\n",
    "nuVertexEnergyWeightedMeanRadialDistance_main = branches['RecoShowerPandrizzleMaxPostShowerStartNuVertexEnergyWeightedMeanRadialDistance']\n",
    "showerMoliereRadius_main = branches['RecoShowerPandrizzleMinPostShowerStartShowerStartMoliereRadius']\n",
    "showerOpeningAngle_main = branches['RecoShowerPandrizzleMaxPostShowerStartOpeningAngle']\n",
    "foundHitRatio_main = branches['RecoShowerPandrizzleMaxFoundHitRatio']\n",
    "initialGapSize_main = branches['RecoShowerPandrizzleMaxInitialGapSize']\n",
    "largestProjectedGapSize_main = branches['RecoShowerPandrizzleMinLargestProjectedGapSize']\n",
    "nViewsWithAmbiguousHits_main = branches['RecoShowerPandrizzleNViewsWithAmbiguousHits']\n",
    "ambiguousHitMaxUnaccountedEnergy_main = branches['RecoShowerPandrizzleAmbiguousHitMaxUnaccountedEnergy']\n",
    "\n",
    "# True information.. (for cheating)\n",
    "pfpTrueMomX_main = branches['RecoPFPTrueMomX']\n",
    "pfpTrueMomY_main = branches['RecoPFPTrueMomY']\n",
    "pfpTrueMomZ_main = branches['RecoPFPTrueMomZ']\n",
    "pfpTruePDG_main = branches['RecoPFPTruePDG']\n",
    "\n",
    "#############################\n",
    "# Network truth - these cannot be numpy arrays...\n",
    "#############################\n",
    "trueVisibleGeneration_main = branches['RecoPFPTrueVisibleGeneration']\n",
    "trueTrackID_main = branches['RecoPFPTrueTrackID']\n",
    "trueVisibleParentTrackID_main = branches['RecoPFPTrueVisibleParentTrackID']\n",
    "\n",
    "#############################\n",
    "# How many entries are we working with?\n",
    "#############################\n",
    "nEntries = run.shape[0]\n",
    "print('We are working with:', nEntries, 'entries')"
   ]
  },
  {
   "cell_type": "code",
   "execution_count": 4,
   "id": "22da6e2d",
   "metadata": {},
   "outputs": [
    {
     "name": "stdout",
     "output_type": "stream",
     "text": [
      "[4 5 3 2]\n"
     ]
    }
   ],
   "source": [
    "jam = np.array([5, 3, 2])\n",
    "jam = np.insert(jam, 0, 4)\n",
    "\n",
    "print(jam)"
   ]
  },
  {
   "cell_type": "code",
   "execution_count": 5,
   "id": "3db5d817",
   "metadata": {},
   "outputs": [
    {
     "name": "stdout",
     "output_type": "stream",
     "text": [
      "0\n",
      "[[-159.70228577]\n",
      " [-160.36352539]\n",
      " [-159.32208252]\n",
      " [-169.51802063]\n",
      " [-173.61737061]\n",
      " [-170.35926819]\n",
      " [-152.44546509]\n",
      " [-153.35662842]]\n",
      "<class 'numpy.ndarray'>\n",
      "<class 'numpy.ndarray'>\n",
      "<class 'numpy.ndarray'>\n"
     ]
    },
    {
     "ename": "AttributeError",
     "evalue": "no field named 'reshape'",
     "output_type": "error",
     "traceback": [
      "\u001b[0;31m---------------------------------------------------------------------------\u001b[0m",
      "\u001b[0;31mAttributeError\u001b[0m                            Traceback (most recent call last)",
      "Cell \u001b[0;32mIn[5], line 61\u001b[0m\n\u001b[1;32m     23\u001b[0m eventDict \u001b[38;5;241m=\u001b[39m {\n\u001b[1;32m     24\u001b[0m     \u001b[38;5;124m\"\u001b[39m\u001b[38;5;124mrecoNuVertexX\u001b[39m\u001b[38;5;124m\"\u001b[39m                            : recoNuVertexX, \\\n\u001b[1;32m     25\u001b[0m     \u001b[38;5;124m\"\u001b[39m\u001b[38;5;124mrecoNuVertexY\u001b[39m\u001b[38;5;124m\"\u001b[39m                            : recoNuVertexY, \\\n\u001b[0;32m   (...)\u001b[0m\n\u001b[1;32m     56\u001b[0m     \u001b[38;5;124m\"\u001b[39m\u001b[38;5;124mtruePDG\u001b[39m\u001b[38;5;124m\"\u001b[39m                                  : np\u001b[38;5;241m.\u001b[39marray(pfpTruePDG_main[iEvent])\n\u001b[1;32m     57\u001b[0m }\n\u001b[1;32m     59\u001b[0m \u001b[38;5;28mprint\u001b[39m(eventDict[\u001b[38;5;124m\"\u001b[39m\u001b[38;5;124mvertexX\u001b[39m\u001b[38;5;124m\"\u001b[39m]\u001b[38;5;241m.\u001b[39mreshape(\u001b[38;5;241m-\u001b[39m\u001b[38;5;241m1\u001b[39m,\u001b[38;5;241m1\u001b[39m))\n\u001b[0;32m---> 61\u001b[0m data_pos, data_neg, data_FC \u001b[38;5;241m=\u001b[39m \u001b[43mGraphBuilder\u001b[49m\u001b[38;5;241;43m.\u001b[39;49m\u001b[43mGraphBuilder\u001b[49m\u001b[43m(\u001b[49m\u001b[43meventDict\u001b[49m\u001b[43m,\u001b[49m\u001b[43m \u001b[49m\u001b[43mmodeDict\u001b[49m\u001b[43m)\u001b[49m\n\u001b[1;32m     64\u001b[0m data_set_pos\u001b[38;5;241m.\u001b[39mappend(data_pos)\n\u001b[1;32m     65\u001b[0m data_set_neg\u001b[38;5;241m.\u001b[39mappend(data_neg)\n",
      "File \u001b[0;32m~/Desktop/DUNE/2024/Hierarchy/GraphBuilder.py:82\u001b[0m, in \u001b[0;36mGraphBuilder\u001b[0;34m(eventDict, modeDict)\u001b[0m\n\u001b[1;32m     79\u001b[0m \u001b[38;5;28mprint\u001b[39m(\u001b[38;5;28mtype\u001b[39m(eventDict[\u001b[38;5;124m\"\u001b[39m\u001b[38;5;124mvertexX\u001b[39m\u001b[38;5;124m\"\u001b[39m]))\n\u001b[1;32m     81\u001b[0m \u001b[38;5;66;03m# We need not normalised versions to determine particle-particle links \u001b[39;00m\n\u001b[0;32m---> 82\u001b[0m vertex_notNorm \u001b[38;5;241m=\u001b[39m np\u001b[38;5;241m.\u001b[39mconcatenate((eventDict[\u001b[38;5;124m\"\u001b[39m\u001b[38;5;124mvertexX\u001b[39m\u001b[38;5;124m\"\u001b[39m]\u001b[38;5;241m.\u001b[39mreshape(\u001b[38;5;241m-\u001b[39m\u001b[38;5;241m1\u001b[39m,\u001b[38;5;241m1\u001b[39m), \u001b[43meventDict\u001b[49m\u001b[43m[\u001b[49m\u001b[38;5;124;43m\"\u001b[39;49m\u001b[38;5;124;43mvertexY\u001b[39;49m\u001b[38;5;124;43m\"\u001b[39;49m\u001b[43m]\u001b[49m\u001b[38;5;241;43m.\u001b[39;49m\u001b[43mreshape\u001b[49m(\u001b[38;5;241m-\u001b[39m\u001b[38;5;241m1\u001b[39m,\u001b[38;5;241m1\u001b[39m), eventDict[\u001b[38;5;124m\"\u001b[39m\u001b[38;5;124mvertexZ\u001b[39m\u001b[38;5;124m\"\u001b[39m]\u001b[38;5;241m.\u001b[39mreshape(\u001b[38;5;241m-\u001b[39m\u001b[38;5;241m1\u001b[39m,\u001b[38;5;241m1\u001b[39m)), axis\u001b[38;5;241m=\u001b[39m\u001b[38;5;241m1\u001b[39m)\n\u001b[1;32m     83\u001b[0m trackEnd_notNorm \u001b[38;5;241m=\u001b[39m np\u001b[38;5;241m.\u001b[39mconcatenate((eventDict[\u001b[38;5;124m\"\u001b[39m\u001b[38;5;124mtrackEndX\u001b[39m\u001b[38;5;124m\"\u001b[39m]\u001b[38;5;241m.\u001b[39mreshape(\u001b[38;5;241m-\u001b[39m\u001b[38;5;241m1\u001b[39m,\u001b[38;5;241m1\u001b[39m), eventDict[\u001b[38;5;124m\"\u001b[39m\u001b[38;5;124mtrackEndY\u001b[39m\u001b[38;5;124m\"\u001b[39m]\u001b[38;5;241m.\u001b[39mreshape(\u001b[38;5;241m-\u001b[39m\u001b[38;5;241m1\u001b[39m,\u001b[38;5;241m1\u001b[39m), eventDict[\u001b[38;5;124m\"\u001b[39m\u001b[38;5;124mtrackEndZ\u001b[39m\u001b[38;5;124m\"\u001b[39m]\u001b[38;5;241m.\u001b[39mreshape(\u001b[38;5;241m-\u001b[39m\u001b[38;5;241m1\u001b[39m,\u001b[38;5;241m1\u001b[39m)), axis\u001b[38;5;241m=\u001b[39m\u001b[38;5;241m1\u001b[39m)\n\u001b[1;32m     84\u001b[0m showerDir_notNorm \u001b[38;5;241m=\u001b[39m np\u001b[38;5;241m.\u001b[39mconcatenate((eventDict[\u001b[38;5;124m\"\u001b[39m\u001b[38;5;124mshowerDirX\u001b[39m\u001b[38;5;124m\"\u001b[39m]\u001b[38;5;241m.\u001b[39mreshape(\u001b[38;5;241m-\u001b[39m\u001b[38;5;241m1\u001b[39m,\u001b[38;5;241m1\u001b[39m), eventDict[\u001b[38;5;124m\"\u001b[39m\u001b[38;5;124mshowerDirY\u001b[39m\u001b[38;5;124m\"\u001b[39m]\u001b[38;5;241m.\u001b[39mreshape(\u001b[38;5;241m-\u001b[39m\u001b[38;5;241m1\u001b[39m,\u001b[38;5;241m1\u001b[39m), eventDict[\u001b[38;5;124m\"\u001b[39m\u001b[38;5;124mshowerDirZ\u001b[39m\u001b[38;5;124m\"\u001b[39m]\u001b[38;5;241m.\u001b[39mreshape(\u001b[38;5;241m-\u001b[39m\u001b[38;5;241m1\u001b[39m,\u001b[38;5;241m1\u001b[39m)), axis\u001b[38;5;241m=\u001b[39m\u001b[38;5;241m1\u001b[39m)\n",
      "File \u001b[0;32m/Library/Frameworks/Python.framework/Versions/3.11/lib/python3.11/site-packages/awkward/highlevel.py:1176\u001b[0m, in \u001b[0;36mArray.__getattr__\u001b[0;34m(self, where)\u001b[0m\n\u001b[1;32m   1171\u001b[0m         \u001b[38;5;28;01mraise\u001b[39;00m \u001b[38;5;167;01mAttributeError\u001b[39;00m(\n\u001b[1;32m   1172\u001b[0m             \u001b[38;5;124mf\u001b[39m\u001b[38;5;124m\"\u001b[39m\u001b[38;5;124mwhile trying to get field \u001b[39m\u001b[38;5;132;01m{\u001b[39;00mwhere\u001b[38;5;132;01m!r}\u001b[39;00m\u001b[38;5;124m, an exception \u001b[39m\u001b[38;5;124m\"\u001b[39m\n\u001b[1;32m   1173\u001b[0m             \u001b[38;5;124mf\u001b[39m\u001b[38;5;124m\"\u001b[39m\u001b[38;5;124moccurred:\u001b[39m\u001b[38;5;130;01m\\n\u001b[39;00m\u001b[38;5;132;01m{\u001b[39;00m\u001b[38;5;28mtype\u001b[39m(err)\u001b[38;5;132;01m}\u001b[39;00m\u001b[38;5;124m: \u001b[39m\u001b[38;5;132;01m{\u001b[39;00merr\u001b[38;5;132;01m!s}\u001b[39;00m\u001b[38;5;124m\"\u001b[39m\n\u001b[1;32m   1174\u001b[0m         ) \u001b[38;5;28;01mfrom\u001b[39;00m \u001b[38;5;21;01merr\u001b[39;00m\n\u001b[1;32m   1175\u001b[0m \u001b[38;5;28;01melse\u001b[39;00m:\n\u001b[0;32m-> 1176\u001b[0m     \u001b[38;5;28;01mraise\u001b[39;00m \u001b[38;5;167;01mAttributeError\u001b[39;00m(\u001b[38;5;124mf\u001b[39m\u001b[38;5;124m\"\u001b[39m\u001b[38;5;124mno field named \u001b[39m\u001b[38;5;132;01m{\u001b[39;00mwhere\u001b[38;5;132;01m!r}\u001b[39;00m\u001b[38;5;124m\"\u001b[39m)\n",
      "\u001b[0;31mAttributeError\u001b[0m: no field named 'reshape'"
     ]
    }
   ],
   "source": [
    "#############################\n",
    "# Let's create our graphs!\n",
    "#############################\n",
    "\n",
    "data_set_pos = []\n",
    "data_set_neg = []\n",
    "data_set_FC = []\n",
    "\n",
    "modeDict = {\n",
    "    \"ADD_NEUTRINO\"                 : True,\n",
    "    \"CHEAT_DIRECTION\"              : True,\n",
    "    \"CHEAT_PID\"                    : True, \n",
    "    \"MAKE_PARTICLE_PARTICLE_LINKS\" : True,\n",
    "    \"EDGE_FRACTION\"                : 0.8,\n",
    "    \"DO_NORMALISATION\"             : True,\n",
    "    \"IS_TRAINING_MODE\"             : True\n",
    "}\n",
    "\n",
    "for iEvent in range(nEntries) : \n",
    "    \n",
    "    print(iEvent)\n",
    "    \n",
    "    eventDict = {\n",
    "        \"recoNuVertexX\"                            : recoNuVertexX, \\\n",
    "        \"recoNuVertexY\"                            : recoNuVertexY, \\\n",
    "        \"recoNuVertexZ\"                            : recoNuVertexZ, \\\n",
    "        \"nParticles\"                               : np.array(pfpTruePDG_main[iEvent]).shape[0], \\\n",
    "        \"trackShowerScore\"                         : np.array(trackShowerScore_main[iEvent]), \\\n",
    "        \"nHits\"                                    : np.array(nHits_main[iEvent]), \\\n",
    "        \"charge\"                                   : np.array(charge_main[iEvent]), \\\n",
    "        \"vertexX\"                                  : np.array(vertexX_main[iEvent]), \\\n",
    "        \"vertexY\"                                  : np.array(vertexY_main[iEvent]), \\\n",
    "        \"vertexZ\"                                  : np.array(vertexZ_main[iEvent]), \\\n",
    "        \"trackEndX\"                                : np.array(trackEndX_main[iEvent]), \\\n",
    "        \"trackEndY\"                                : np.array(trackEndY_main[iEvent]), \\\n",
    "        \"trackEndZ\"                                : np.array(trackEndZ_main[iEvent]), \\\n",
    "        \"showerDirX\"                               : np.array(showerDirX_main[iEvent]), \\\n",
    "        \"showerDirY\"                               : np.array(showerDirY_main[iEvent]), \\\n",
    "        \"showerDirZ\"                               : np.array(showerDirZ_main[iEvent]), \\\n",
    "        \"ivysaurusMuon\"                            : np.array(ivysaurusMuon_main[iEvent]), \\\n",
    "        \"ivysaurusProton\"                          : np.array(ivysaurusProton_main[iEvent]), \\\n",
    "        \"ivysaurusPion\"                            : np.array(ivysaurusPion_main[iEvent]), \\\n",
    "        \"ivysaurusElectron\"                        : np.array(ivysaurusElectron_main[iEvent]), \\\n",
    "        \"ivysaurusPhoton\"                          : np.array(ivysaurusPhoton_main[iEvent]), \\\n",
    "        \"trackLength\"                              : np.array(trackLength_main[iEvent]), \\\n",
    "        \"displacement\"                             : np.array(displacement_main[iEvent]), \\\n",
    "        \"dca\"                                      : np.array(dca_main[iEvent]), \\\n",
    "        \"isNeutrinoPDG\"                            : np.zeros(np.array(pfpTruePDG_main[iEvent]).shape), \\\n",
    "        \"nuVertexEnergyAsymmetry\"                  : np.array(nuVertexEnergyAsymmetry_main[iEvent]), \\\n",
    "        \"nuVertexEnergyWeightedMeanRadialDistance\" : np.array(nuVertexEnergyWeightedMeanRadialDistance_main[iEvent]), \\\n",
    "        \"trueTrackID\"                              : np.array(trueTrackID_main[iEvent]), \\\n",
    "        \"trueVisibleParentTrackID\"                 : np.array(trueVisibleParentTrackID_main[iEvent]), \\\n",
    "        \"trueMomX\"                                 : np.array(pfpTrueMomX_main[iEvent]), \\\n",
    "        \"trueMomY\"                                 : np.array(pfpTrueMomY_main[iEvent]), \\\n",
    "        \"trueMomZ\"                                 : np.array(pfpTrueMomZ_main[iEvent]), \\\n",
    "        \"truePDG\"                                  : np.array(pfpTruePDG_main[iEvent])\n",
    "    }\n",
    "    \n",
    "    print(eventDict[\"vertexX\"].reshape(-1,1))\n",
    "    \n",
    "    data_pos, data_neg, data_FC = GraphBuilder.GraphBuilder(eventDict, modeDict)\n",
    "\n",
    "\n",
    "    data_set_pos.append(data_pos)\n",
    "    data_set_neg.append(data_neg)\n",
    "    data_set_FC.append(data_FC)\n",
    "    "
   ]
  },
  {
   "cell_type": "code",
   "execution_count": null,
   "id": "7c92593d",
   "metadata": {},
   "outputs": [],
   "source": [
    "torch.save(data_set_pos, 'data_set_pos_particleToParticle_messageDirectional_truthDirectional_80.pt')\n",
    "torch.save(data_set_neg, 'data_set_neg_particleToParticle_messageDirectional_truthDirectional_80.pt')\n",
    "torch.save(data_set_FC, 'data_set_FC_particleToParticle_messageDirectional_truthDirectional_80.pt')"
   ]
  },
  {
   "cell_type": "code",
   "execution_count": null,
   "id": "a3752fa4",
   "metadata": {},
   "outputs": [],
   "source": []
  }
 ],
 "metadata": {
  "kernelspec": {
   "display_name": "Python 3 (ipykernel)",
   "language": "python",
   "name": "python3"
  },
  "language_info": {
   "codemirror_mode": {
    "name": "ipython",
    "version": 3
   },
   "file_extension": ".py",
   "mimetype": "text/x-python",
   "name": "python",
   "nbconvert_exporter": "python",
   "pygments_lexer": "ipython3",
   "version": "3.11.4"
  }
 },
 "nbformat": 4,
 "nbformat_minor": 5
}
