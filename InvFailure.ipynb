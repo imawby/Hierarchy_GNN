{
 "cells": [
  {
   "cell_type": "code",
   "execution_count": 1,
   "id": "4f467756",
   "metadata": {},
   "outputs": [],
   "source": [
    "import uproot\n",
    "import numpy as np\n",
    "import time\n",
    "import matplotlib.pyplot as plt"
   ]
  },
  {
   "cell_type": "code",
   "execution_count": 2,
   "id": "ee650805",
   "metadata": {},
   "outputs": [],
   "source": [
    "fileName = '/Users/isobel/Desktop/DUNE/2024/Hierarchy/files/ccnutree_0'\n",
    "inputFileName = fileName + '.root'\n",
    "\n",
    "treeFile = uproot.open(inputFileName)\n",
    "tree = treeFile['ccnuselection/ccnusel']\n",
    "branches = tree.arrays()"
   ]
  },
  {
   "cell_type": "code",
   "execution_count": 3,
   "id": "6414c356",
   "metadata": {},
   "outputs": [],
   "source": [
    "event = np.array(branches['Event'])\n",
    "subrun = np.array(branches['SubRun'])\n",
    "run = np.array(branches['Run'])\n"
   ]
  },
  {
   "cell_type": "code",
   "execution_count": 4,
   "id": "755d429c",
   "metadata": {},
   "outputs": [
    {
     "name": "stdout",
     "output_type": "stream",
     "text": [
      "(array([7932]),)\n"
     ]
    }
   ],
   "source": [
    "target_event = 37133\n",
    "target_run = 1434\n",
    "\n",
    "print(np.where(np.logical_and(event == target_event, run == target_run)))\n",
    " \n",
    "iEvent = np.where(np.logical_and(event == target_event, run == target_run))[0][0]"
   ]
  },
  {
   "cell_type": "code",
   "execution_count": 5,
   "id": "b96ea073",
   "metadata": {},
   "outputs": [],
   "source": [
    "parentIndex_main = branches['ParentPFPIndex']\n",
    "childIndex_main = branches['ChildPFPIndex']\n",
    "linkTruth_main = branches['TrueParentChildLink']\n",
    "isLinkOrientationCorrect_main = branches['IsLinkOrientationCorrect']\n",
    "parentTrackScore_main = branches['ParentTrackScore']\n",
    "parentNuVertexSeparation_main = branches['ParentNuVertexSeparation']\n",
    "childNuVertexSeparation_main = branches['ChildNuVertexSeparation']\n",
    "parentEndRegionNHits_main = branches['ParentEndRegionNHits']\n",
    "parentEndRegionNParticles_main = branches['ParentEndRegionNParticles']\n",
    "parentEndRegionRToWall_main = branches['ParentEndRegionRToWall']\n",
    "vertexSeparation_main = branches['VertexSeparation']\n",
    "separation3D_main = branches['Separation3D']\n",
    "doesChildConnect_main = branches['DoesChildConnect']\n",
    "overshootStartDCA_main = branches['OvershootStartDCA']\n",
    "overshootStartL_main = branches['OvershootStartL']\n",
    "overshootEndDCA_main = branches['OvershootEndDCA']\n",
    "overshootEndL_main = branches['OvershootEndL']\n",
    "childConnectionDCA_main = branches['ChildConnectionDCA']\n",
    "childConnectionExtrapDistance_main = branches['ChildConnectionExtrapDistance']\n",
    "childConnectionLRatio_main = branches['ChildConnectionLRatio']\n",
    "parentConnectionPointNUpstreamHits_main = branches['ParentConnectionPointNUpstreamHits']\n",
    "parentConnectionPointNDownstreamHits_main = branches['ParentConnectionPointNDownstreamHits']\n",
    "parentConnectionPointNHitRatio_main = branches['ParentConnectionPointNHitRatio']\n",
    "parentConnectionPointEigenValueRatio_main = branches['ParentConnectionPointEigenValueRatio']\n",
    "parentConnectionPointOpeningAngle_main = branches['ParentConnectionPointOpeningAngle']\n",
    "pidLinkType_main = branches['PIDLinkType']\n",
    "\n",
    "\n",
    "\n",
    "\n",
    "parentIndex = np.array(branches['ParentPFPIndex'][iEvent])\n",
    "childIndex = np.array(branches['ChildPFPIndex'][iEvent])\n",
    "linkTruth = np.array(branches['TrueParentChildLink'][iEvent])\n",
    "isLinkOrientationCorrect = np.array(branches['IsLinkOrientationCorrect'][iEvent])  \n",
    "parentTrackScore = branches['ParentTrackScore'][iEvent]\n",
    "parentNuVertexSeparation = branches['ParentNuVertexSeparation'][iEvent]\n",
    "childNuVertexSeparation = branches['ChildNuVertexSeparation'][iEvent]\n",
    "parentEndRegionNHits = branches['ParentEndRegionNHits'][iEvent]\n",
    "parentEndRegionNParticles = branches['ParentEndRegionNParticles'][iEvent]\n",
    "parentEndRegionRToWall = branches['ParentEndRegionRToWall'][iEvent]\n",
    "vertexSeparation = branches['VertexSeparation'][iEvent]\n",
    "separation3D = branches['Separation3D'][iEvent]\n",
    "doesChildConnect = branches['DoesChildConnect'][iEvent]\n",
    "overshootStartDCA = branches['OvershootStartDCA'][iEvent]\n",
    "overshootStartL = branches['OvershootStartL'][iEvent]\n",
    "overshootEndDCA = branches['OvershootEndDCA'][iEvent]\n",
    "overshootEndL = branches['OvershootEndL'][iEvent]\n",
    "childConnectionDCA = branches['ChildConnectionDCA'][iEvent]\n",
    "childConnectionExtrapDistance = branches['ChildConnectionExtrapDistance'][iEvent]\n",
    "childConnectionLRatio = branches['ChildConnectionLRatio'][iEvent]\n",
    "parentConnectionPointNUpstreamHits = branches['ParentConnectionPointNUpstreamHits'][iEvent]\n",
    "parentConnectionPointNDownstreamHits = branches['ParentConnectionPointNDownstreamHits'][iEvent]\n",
    "parentConnectionPointNHitRatio = branches['ParentConnectionPointNHitRatio'][iEvent]\n",
    "parentConnectionPointEigenValueRatio = branches['ParentConnectionPointEigenValueRatio'][iEvent]\n",
    "parentConnectionPointOpeningAngle = branches['ParentConnectionPointOpeningAngle'][iEvent]\n",
    "pidLinkType = branches['PIDLinkType'][iEvent]\n"
   ]
  },
  {
   "cell_type": "code",
   "execution_count": 6,
   "id": "492c5988",
   "metadata": {},
   "outputs": [
    {
     "name": "stdout",
     "output_type": "stream",
     "text": [
      "(array([576, 577, 578, 579]),)\n"
     ]
    }
   ],
   "source": [
    "target_parentPFPIndex = 8\n",
    "target_childPFPIndex = 13\n",
    "\n",
    "print(np.where(np.logical_and(parentIndex == target_parentPFPIndex, childIndex == target_childPFPIndex)))\n",
    "iLinks = np.where(np.logical_and(parentIndex == target_parentPFPIndex, childIndex == target_childPFPIndex))[0]"
   ]
  },
  {
   "cell_type": "code",
   "execution_count": 7,
   "id": "a3890771",
   "metadata": {},
   "outputs": [],
   "source": [
    "def flatten_comprehension(matrix):\n",
    "    return [item for row in matrix for item in row]\n",
    "\n",
    "def drawSignalBackgroundGroup_track(variable0, link_truth, link_orientation, instance, graph_label) :\n",
    "    \n",
    "    variable_flat = np.array(flatten_comprehension(variable0))\n",
    "    link_truth_flat = np.array(flatten_comprehension(link_truth))\n",
    "    link_orientation_flat = np.array(flatten_comprehension(link_orientation))\n",
    "    \n",
    "    signal_mask = np.logical_and(link_truth_flat, link_orientation_flat)\n",
    "    \n",
    "    variable_signal = variable_flat[signal_mask]\n",
    "    \n",
    "    signal_weights = 1.0 / float(variable_signal.shape[0])\n",
    "    signal_weights = np.ones(variable_signal.shape[0]) * signal_weights\n",
    "        \n",
    "    # Adding an arrow to graph starting \n",
    "# from the base (2, 4) and with the \n",
    "# length of 2 units from both x and y\n",
    "# And setting the width of arrow for\n",
    "# better visualization\n",
    "    plt.arrow(instance, 0, 0, -2, width = 0.05)\n",
    "        \n",
    "    plt.hist(variable_signal, bins=50, color='blue', weights=signal_weights, label='signal', fill=False, histtype='step')\n",
    "    plt.title(graph_label)\n",
    "    plt.xlabel(graph_label)\n",
    "    plt.legend()\n",
    "    plt.grid(True)\n",
    "    plt.show()   "
   ]
  },
  {
   "cell_type": "code",
   "execution_count": 8,
   "id": "466d416f",
   "metadata": {},
   "outputs": [
    {
     "data": {
      "image/png": "[encoded data removed]",
      "text/plain": [
       "<Figure size 640x480 with 1 Axes>"
      ]
     },
     "metadata": {},
     "output_type": "display_data"
    },
    {
     "name": "stdout",
     "output_type": "stream",
     "text": [
      "linkTruth: False\n",
      "isLinkOrientationCorrect: False\n",
      "doesChildConnect: False\n",
      "overshootEndDCA: 120.6773790663856\n",
      "pidLinkType: 12.0\n",
      "parentTrackScore: 0.592997133731842\n",
      "separation3D: 43.39015659805454\n",
      "parentEndRegionNHits: 57.0\n",
      "vertexSeparation: 196.08118845066377\n",
      "-\n"
     ]
    },
    {
     "ename": "KeyboardInterrupt",
     "evalue": "",
     "output_type": "error",
     "traceback": [
      "\u001b[0;31m---------------------------------------------------------------------------\u001b[0m",
      "\u001b[0;31mKeyboardInterrupt\u001b[0m                         Traceback (most recent call last)",
      "Cell \u001b[0;32mIn[8], line 2\u001b[0m\n\u001b[1;32m      1\u001b[0m \u001b[38;5;28;01mfor\u001b[39;00m iLink \u001b[38;5;129;01min\u001b[39;00m iLinks :\n\u001b[0;32m----> 2\u001b[0m     \u001b[43mdrawSignalBackgroundGroup_track\u001b[49m\u001b[43m(\u001b[49m\u001b[43movershootEndDCA_main\u001b[49m\u001b[43m,\u001b[49m\u001b[43m \u001b[49m\u001b[43mlinkTruth_main\u001b[49m\u001b[43m,\u001b[49m\u001b[43m \u001b[49m\u001b[43misLinkOrientationCorrect_main\u001b[49m\u001b[43m,\u001b[49m\u001b[43m \u001b[49m\u001b[43movershootEndDCA_main\u001b[49m\u001b[43m[\u001b[49m\u001b[43miEvent\u001b[49m\u001b[43m]\u001b[49m\u001b[43m[\u001b[49m\u001b[43miLink\u001b[49m\u001b[43m]\u001b[49m\u001b[43m,\u001b[49m\u001b[43m \u001b[49m\u001b[38;5;124;43m'\u001b[39;49m\u001b[38;5;124;43mjam\u001b[39;49m\u001b[38;5;124;43m'\u001b[39;49m\u001b[43m)\u001b[49m\n\u001b[1;32m      3\u001b[0m     \u001b[38;5;28mprint\u001b[39m(\u001b[38;5;124m'\u001b[39m\u001b[38;5;124mlinkTruth:\u001b[39m\u001b[38;5;124m'\u001b[39m, linkTruth[iLink])\n\u001b[1;32m      4\u001b[0m     \u001b[38;5;28mprint\u001b[39m(\u001b[38;5;124m'\u001b[39m\u001b[38;5;124misLinkOrientationCorrect:\u001b[39m\u001b[38;5;124m'\u001b[39m, isLinkOrientationCorrect[iLink])  \n",
      "Cell \u001b[0;32mIn[7], line 8\u001b[0m, in \u001b[0;36mdrawSignalBackgroundGroup_track\u001b[0;34m(variable0, link_truth, link_orientation, instance, graph_label)\u001b[0m\n\u001b[1;32m      6\u001b[0m variable_flat \u001b[38;5;241m=\u001b[39m np\u001b[38;5;241m.\u001b[39marray(flatten_comprehension(variable0))\n\u001b[1;32m      7\u001b[0m link_truth_flat \u001b[38;5;241m=\u001b[39m np\u001b[38;5;241m.\u001b[39marray(flatten_comprehension(link_truth))\n\u001b[0;32m----> 8\u001b[0m link_orientation_flat \u001b[38;5;241m=\u001b[39m np\u001b[38;5;241m.\u001b[39marray(\u001b[43mflatten_comprehension\u001b[49m\u001b[43m(\u001b[49m\u001b[43mlink_orientation\u001b[49m\u001b[43m)\u001b[49m)\n\u001b[1;32m     10\u001b[0m signal_mask \u001b[38;5;241m=\u001b[39m np\u001b[38;5;241m.\u001b[39mlogical_and(link_truth_flat, link_orientation_flat)\n\u001b[1;32m     12\u001b[0m variable_signal \u001b[38;5;241m=\u001b[39m variable_flat[signal_mask]\n",
      "Cell \u001b[0;32mIn[7], line 2\u001b[0m, in \u001b[0;36mflatten_comprehension\u001b[0;34m(matrix)\u001b[0m\n\u001b[1;32m      1\u001b[0m \u001b[38;5;28;01mdef\u001b[39;00m \u001b[38;5;21mflatten_comprehension\u001b[39m(matrix):\n\u001b[0;32m----> 2\u001b[0m     \u001b[38;5;28;01mreturn\u001b[39;00m \u001b[43m[\u001b[49m\u001b[43mitem\u001b[49m\u001b[43m \u001b[49m\u001b[38;5;28;43;01mfor\u001b[39;49;00m\u001b[43m \u001b[49m\u001b[43mrow\u001b[49m\u001b[43m \u001b[49m\u001b[38;5;129;43;01min\u001b[39;49;00m\u001b[43m \u001b[49m\u001b[43mmatrix\u001b[49m\u001b[43m \u001b[49m\u001b[38;5;28;43;01mfor\u001b[39;49;00m\u001b[43m \u001b[49m\u001b[43mitem\u001b[49m\u001b[43m \u001b[49m\u001b[38;5;129;43;01min\u001b[39;49;00m\u001b[43m \u001b[49m\u001b[43mrow\u001b[49m\u001b[43m]\u001b[49m\n",
      "Cell \u001b[0;32mIn[7], line 2\u001b[0m, in \u001b[0;36m<listcomp>\u001b[0;34m(.0)\u001b[0m\n\u001b[1;32m      1\u001b[0m \u001b[38;5;28;01mdef\u001b[39;00m \u001b[38;5;21mflatten_comprehension\u001b[39m(matrix):\n\u001b[0;32m----> 2\u001b[0m     \u001b[38;5;28;01mreturn\u001b[39;00m [item \u001b[38;5;28;01mfor\u001b[39;00m row \u001b[38;5;129;01min\u001b[39;00m matrix \u001b[38;5;28;01mfor\u001b[39;00m item \u001b[38;5;129;01min\u001b[39;00m row]\n",
      "\u001b[0;31mKeyboardInterrupt\u001b[0m: "
     ]
    }
   ],
   "source": [
    "for iLink in iLinks :\n",
    "    drawSignalBackgroundGroup_track(overshootEndDCA_main, linkTruth_main, isLinkOrientationCorrect_main, overshootEndDCA_main[iEvent][iLink], 'jam')\n",
    "    print('linkTruth:', linkTruth[iLink])\n",
    "    print('isLinkOrientationCorrect:', isLinkOrientationCorrect[iLink])  \n",
    "    print('doesChildConnect:', doesChildConnect[iLink])\n",
    "    print('overshootEndDCA:', overshootEndDCA[iLink])\n",
    "    print('pidLinkType:', pidLinkType[iLink])\n",
    "    print('parentTrackScore:', parentTrackScore[iLink])\n",
    "    print('separation3D:', separation3D[iLink])\n",
    "    print('parentEndRegionNHits:', parentEndRegionNHits[iLink])\n",
    "    print('vertexSeparation:', vertexSeparation[iLink])\n",
    "    print('-')"
   ]
  },
  {
   "cell_type": "code",
   "execution_count": null,
   "id": "61fd83fc",
   "metadata": {},
   "outputs": [],
   "source": [
    "            if (parentIndex.shape[0] != 0) :\n",
    "                currentParent = parentIndex[0]\n",
    "                currentChild = childIndex[0]\n",
    "                linksMadeCounter = 1\n",
    "\n",
    "                print('Looping through the links in this event...')\n",
    "                print('parentIndex.shape[0]', parentIndex.shape[0])\n",
    "\n",
    "                for iLink in range(1, parentIndex.shape[0]) :\n",
    "\n",
    "                    if ((currentParent != parentIndex[iLink]) or (currentChild != childIndex[iLink])) :\n",
    "                        nLinksMade.append(linksMadeCounter)\n",
    "                        signal_nLinksMade.append(linkTruth[iLink - 1])\n",
    "                        \n",
    "                        linksMadeCounter = 0\n",
    "                        currentParent = parentIndex[iLink]\n",
    "                        currentChild = childIndex[iLink]\n",
    "\n",
    "                    linksMadeCounter = linksMadeCounter + 1\n",
    "\n",
    "                print('Finished...')\n",
    "            \n",
    "            # Edge information\n",
    "            \n",
    "            # Truth \n",
    "            trueParentChildLink.extend(branches['TrueParentChildLink'][iEvent])\n",
    "            isHigherTierTrainingLink.extend(branches['IsHigherTierTrainingLink'][iEvent])\n",
    "            isLinkOrientationCorrect.extend(branches['IsLinkOrientationCorrect'][iEvent])"
   ]
  },
  {
   "cell_type": "code",
   "execution_count": null,
   "id": "73ceb896",
   "metadata": {},
   "outputs": [],
   "source": []
  },
  {
   "cell_type": "code",
   "execution_count": null,
   "id": "c2c5e68e",
   "metadata": {},
   "outputs": [],
   "source": []
  }
 ],
 "metadata": {
  "kernelspec": {
   "display_name": "Python 3 (ipykernel)",
   "language": "python",
   "name": "python3"
  },
  "language_info": {
   "codemirror_mode": {
    "name": "ipython",
    "version": 3
   },
   "file_extension": ".py",
   "mimetype": "text/x-python",
   "name": "python",
   "nbconvert_exporter": "python",
   "pygments_lexer": "ipython3",
   "version": "3.11.4"
  }
 },
 "nbformat": 4,
 "nbformat_minor": 5
}
